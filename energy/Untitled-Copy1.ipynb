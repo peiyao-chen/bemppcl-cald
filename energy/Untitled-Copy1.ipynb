{
 "cells": [
  {
   "cell_type": "code",
   "execution_count": 1,
   "metadata": {},
   "outputs": [
    {
     "name": "stdout",
     "output_type": "stream",
     "text": [
      "('iteration -', 1, '|| residual -', 5.367940886072641)\n",
      "('iteration -', 2, '|| residual -', 5.527034429084293)\n",
      "('iteration -', 3, '|| residual -', 5.5361851743454524)\n",
      "('iteration -', 4, '|| residual -', 5.5373491754004975)\n",
      "('iteration -', 5, '|| residual -', 5.5373501461715247)\n"
     ]
    }
   ],
   "source": [
    "# -*- coding: utf-8 -*-\n",
    "# copied from cald_energy/min_comparison_uniform-energy.py\n",
    "\n",
    "from __future__ import division\n",
    "import bempp.api as bem\n",
    "import numpy as np\n",
    "from login import gmres\n",
    "\n",
    "grid = bem.shapes.sphere(h=1)\n",
    "sp = bem.function_space(grid, 'P', 1)\n",
    "op = bem.operators.boundary.laplace.single_layer(sp, sp, sp)\n",
    "\n",
    "op = op.strong_form()\n",
    "\n",
    "coeff = np.ones(op.shape[0])\n",
    "\n",
    "restart = 20\n",
    "tolerance = 1e-5\n",
    "maxiter = 1000\n",
    "\n",
    "c_paul,  info_paul, res_paul  = gmres(op, coeff, tol=tolerance, restart=restart, return_residuals=True, maxiter=maxiter, solver = 'pyamg')\n",
    "\n"
   ]
  },
  {
   "cell_type": "code",
   "execution_count": null,
   "metadata": {},
   "outputs": [],
   "source": []
  },
  {
   "cell_type": "code",
   "execution_count": null,
   "metadata": {},
   "outputs": [],
   "source": []
  }
 ],
 "metadata": {
  "kernelspec": {
   "display_name": "Python 2",
   "language": "python",
   "name": "python2"
  },
  "language_info": {
   "codemirror_mode": {
    "name": "ipython",
    "version": 2
   },
   "file_extension": ".py",
   "mimetype": "text/x-python",
   "name": "python",
   "nbconvert_exporter": "python",
   "pygments_lexer": "ipython2",
   "version": "2.7.12"
  }
 },
 "nbformat": 4,
 "nbformat_minor": 2
}
